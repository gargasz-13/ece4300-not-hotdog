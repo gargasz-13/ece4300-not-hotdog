{
 "cells": [
  {
   "cell_type": "markdown",
   "metadata": {},
   "source": [
    "# ECE 4300 Not Hotdog"
   ]
  },
  {
   "cell_type": "code",
   "execution_count": null,
   "metadata": {
    "pycharm": {
     "is_executing": true
    }
   },
   "outputs": [],
   "source": [
    "import numpy as np\n",
    "import matplotlib.pyplot as plt\n",
    "%matplotlib inline\n",
    "import skimage.io\n",
    "import skimage.transform\n",
    "import urllib\n",
    "import requests\n",
    "from io import BytesIO\n",
    "import flickrapi"
   ]
  },
  {
   "cell_type": "code",
   "execution_count": null,
   "metadata": {},
   "outputs": [],
   "source": [
    "api_key = '8fa193368446fcb9fbedaea28db13ccc'\n",
    "api_secret = 'e032c5956a398644'\n",
    "\n",
    "flickr = flickrapi.FlickrAPI(api_key, api_secret)"
   ]
  },
  {
   "cell_type": "markdown",
   "metadata": {},
   "source": [
    "# Pull images from Flickr"
   ]
  },
  {
   "cell_type": "code",
   "execution_count": null,
   "metadata": {},
   "outputs": [],
   "source": [
    "import os\n",
    "import warnings\n",
    "from random import seed\n",
    "from random import random\n",
    "\n",
    "directory = 'hotdogs'\n",
    "keyword = 'hotdog hotdogs food'\n",
    "photos = flickr.walk(text=keyword, extras='url_c', sort='relevance', per_page=100)\n",
    "\n",
    "# declare directory names\n",
    "train_dir = 'train'\n",
    "test_dir = 'test'\n",
    "image_dir = directory\n",
    "\n",
    "# make a directories for the training and testing images\n",
    "for root_dir in [train_dir,test_dir]:\n",
    "    dir_path = root_dir + '/' + image_dir\n",
    "\n",
    "    # check if data exists\n",
    "    if not os.path.isdir(root_dir):\n",
    "        os.mkdir(root_dir)\n",
    "    if not os.path.isdir(dir_path):\n",
    "        os.mkdir(dir_path)\n",
    "        print(\"Making directory %s\" % dir_path)\n",
    "    else:\n",
    "        print(\"Will store %s images in directory %s\" %(root_dir,dir_path))\n",
    "    \n",
    "ntrain = 10 # number of training images to download\n",
    "ntest = 10 # number of testing images to download\n",
    "\n",
    "nrow = 224 # image dimension 1\n",
    "ncol = 224 # image dimension 2\n",
    "\n",
    "# download images, first train then test\n",
    "seed(1) # make repeatable\n",
    "itrain = 0 # initialize counter\n",
    "itest = 0 # initialize counter\n",
    "for photo in photos:\n",
    "    url=photo.get('url_c')\n",
    "    if not (url is None):\n",
    "        \n",
    "        # Create a file from the URL\n",
    "        # This may only work in Python3\n",
    "        response = requests.get(url)\n",
    "        file = BytesIO(response.content)\n",
    "        \n",
    "        # Read image from file\n",
    "        im = skimage.io.imread(file)\n",
    "        \n",
    "        # Resize images\n",
    "        im1 = skimage.transform.resize(im,(nrow,ncol),mode='constant')\n",
    "                \n",
    "        # Convert to uint8, suppress the warning about the precision loss\n",
    "        with warnings.catch_warnings():\n",
    "            warnings.simplefilter(\"ignore\")\n",
    "            im2 = skimage.img_as_ubyte(im1)\n",
    "    \n",
    "        # Set the directory randomly \n",
    "        #if (random()< ntrain/(ntrain+ntest)):\n",
    "        if (random()< (ntrain-itrain)/(ntrain-itrain + ntest-itest + 1e-15)):\n",
    "            if (itrain<ntrain):\n",
    "                dir_path = train_dir + '/' + image_dir\n",
    "                i = itrain\n",
    "                itrain = itrain + 1\n",
    "            elif (itest<ntest):\n",
    "                dir_path = test_dir + '/' + image_dir\n",
    "                i = itest\n",
    "                itest = itest + 1\n",
    "            else:\n",
    "                break\n",
    "        else:\n",
    "            if (itest<ntest):\n",
    "                dir_path = test_dir + '/' + image_dir\n",
    "                i = itest\n",
    "                itest = itest + 1\n",
    "            elif (itrain<ntrain):\n",
    "                dir_path = train_dir + '/' + image_dir\n",
    "                i = itrain\n",
    "                itrain = itrain + 1\n",
    "            else:\n",
    "                break            \n",
    "    \n",
    "        # Save the image\n",
    "        local_name = '{0:s}/{1:s}_{2:04d}.jpg'.format(dir_path,keyword,i)  \n",
    "        skimage.io.imsave(local_name, im2)      \n",
    "        print(local_name) "
   ]
  },
  {
   "cell_type": "code",
   "execution_count": null,
   "metadata": {},
   "outputs": [],
   "source": [
    "# Display the image\n",
    "def disp_image(im):\n",
    "    if (len(im.shape) == 2):\n",
    "        # Gray scale image\n",
    "        plt.imshow(im, cmap='gray')    \n",
    "    else:\n",
    "        # Color image.  \n",
    "        im1 = (im-np.min(im))/(np.max(im)-np.min(im))*255\n",
    "        im1 = im1.astype(np.uint8)\n",
    "        plt.imshow(im1)    \n",
    "        \n",
    "    # Remove axis ticks\n",
    "    plt.xticks([])\n",
    "    plt.yticks([])"
   ]
  },
  {
   "cell_type": "markdown",
   "metadata": {},
   "source": [
    "# Print some of the training images"
   ]
  },
  {
   "cell_type": "code",
   "execution_count": null,
   "metadata": {},
   "outputs": [],
   "source": [
    "dir_path = train_dir + '/' + image_dir\n",
    "plt.figure(figsize=(20,20))\n",
    "nplot = 6\n",
    "for i in range(nplot):\n",
    "    fn = '{0:s}/{1:s}_{2:04d}.jpg'.format(dir_path, keyword, i)  \n",
    "    im = skimage.io.imread(fn)\n",
    "    plt.subplot(1,nplot,i+1)\n",
    "    disp_image(im)"
   ]
  },
  {
   "cell_type": "markdown",
   "metadata": {},
   "source": [
    "# Print some of the test images"
   ]
  },
  {
   "cell_type": "code",
   "execution_count": null,
   "metadata": {},
   "outputs": [],
   "source": [
    "dir_path = test_dir + '/' + image_dir\n",
    "plt.figure(figsize=(20,20))\n",
    "nplot = 6\n",
    "for i in range(nplot):\n",
    "    fn = '{0:s}/{1:s}_{2:04d}.jpg'.format(dir_path,keyword, i)  \n",
    "    im = skimage.io.imread(fn)\n",
    "    plt.subplot(1,nplot,i+1)\n",
    "    disp_image(im)"
   ]
  },
  {
   "cell_type": "code",
   "execution_count": null,
   "metadata": {},
   "outputs": [],
   "source": []
  }
 ],
 "metadata": {
  "anaconda-cloud": {},
  "kernelspec": {
   "display_name": "Python 3",
   "language": "python",
   "name": "python3"
  },
  "language_info": {
   "codemirror_mode": {
    "name": "ipython",
    "version": 3
   },
   "file_extension": ".py",
   "mimetype": "text/x-python",
   "name": "python",
   "nbconvert_exporter": "python",
   "pygments_lexer": "ipython3",
   "version": "3.5.6"
  },
  "varInspector": {
   "cols": {
    "lenName": 16,
    "lenType": 16,
    "lenVar": 40
   },
   "kernels_config": {
    "python": {
     "delete_cmd_postfix": "",
     "delete_cmd_prefix": "del ",
     "library": "var_list.py",
     "varRefreshCmd": "print(var_dic_list())"
    },
    "r": {
     "delete_cmd_postfix": ") ",
     "delete_cmd_prefix": "rm(",
     "library": "var_list.r",
     "varRefreshCmd": "cat(var_dic_list()) "
    }
   },
   "types_to_exclude": [
    "module",
    "function",
    "builtin_function_or_method",
    "instance",
    "_Feature"
   ],
   "window_display": false
  }
 },
 "nbformat": 4,
 "nbformat_minor": 1
}
